{
 "cells": [
  {
   "cell_type": "markdown",
   "metadata": {
    "id": "x9dBBSwPvfm7"
   },
   "source": [
    "## Predicting Stress and Sleep Disorders Using Health and Lifestyle Data\n",
    "\n"
   ]
  },
  {
   "cell_type": "markdown",
   "metadata": {
    "id": "wQASajlJvuAX"
   },
   "source": [
    "## Team\n",
    "- Bhogaraju Shanmukha Sri Krishna\n",
    "- Bhupati Varun\n",
    "- Vishnu Shreeram M P"
   ]
  },
  {
   "cell_type": "code",
   "execution_count": 1,
   "metadata": {},
   "outputs": [],
   "source": [
    "import sys\n",
    "import os\n",
    "\n",
    "# Add project root (one level up from notebooks/) to path\n",
    "sys.path.append(os.path.abspath(\"..\"))"
   ]
  },
  {
   "cell_type": "markdown",
   "metadata": {
    "id": "ERBaE_rcKay6"
   },
   "source": [
    "# Loading Dataset\n",
    "- To load the dataset, we can use the `read_csv()` function from the pandas library :\n",
    "\n",
    "```python []\n",
    "df_part1 = pd.read_csv('./Sleep_health_and_lifestyle_dataset.csv')\n",
    "df_part2 = pd.read_csv('./Sleep_health_and_lifestyle_dataset_part_2.csv')\n",
    "```\n",
    "- These two lines of code will load the dataset from the CSV files `Sleep_health_and_lifestyle_dataset.csv` and `Sleep_health_and_lifestyle_dataset_part_2.csv` respectively and store them in the variables `df_part1` and `df_part2`.\n",
    "- This logic can be found in ```src/load_data.py```.\n",
    "- Later the two dfs are merged into a single df and this df is returned.\n"
   ]
  },
  {
   "cell_type": "code",
   "execution_count": 2,
   "metadata": {},
   "outputs": [
    {
     "data": {
      "text/html": [
       "<div>\n",
       "<style scoped>\n",
       "    .dataframe tbody tr th:only-of-type {\n",
       "        vertical-align: middle;\n",
       "    }\n",
       "\n",
       "    .dataframe tbody tr th {\n",
       "        vertical-align: top;\n",
       "    }\n",
       "\n",
       "    .dataframe thead th {\n",
       "        text-align: right;\n",
       "    }\n",
       "</style>\n",
       "<table border=\"1\" class=\"dataframe\">\n",
       "  <thead>\n",
       "    <tr style=\"text-align: right;\">\n",
       "      <th></th>\n",
       "      <th>Person ID</th>\n",
       "      <th>Gender</th>\n",
       "      <th>Age</th>\n",
       "      <th>Occupation</th>\n",
       "      <th>Sleep Duration</th>\n",
       "      <th>Quality of Sleep</th>\n",
       "      <th>Physical Activity Level</th>\n",
       "      <th>Stress Level</th>\n",
       "      <th>BMI Category</th>\n",
       "      <th>Blood Pressure</th>\n",
       "      <th>Heart Rate</th>\n",
       "      <th>Daily Steps</th>\n",
       "      <th>Sleep Disorder</th>\n",
       "    </tr>\n",
       "  </thead>\n",
       "  <tbody>\n",
       "    <tr>\n",
       "      <th>0</th>\n",
       "      <td>1</td>\n",
       "      <td>Male</td>\n",
       "      <td>27</td>\n",
       "      <td>Software Engineer</td>\n",
       "      <td>6.1</td>\n",
       "      <td>6</td>\n",
       "      <td>42</td>\n",
       "      <td>6</td>\n",
       "      <td>Overweight</td>\n",
       "      <td>126/83</td>\n",
       "      <td>77</td>\n",
       "      <td>4200</td>\n",
       "      <td>NaN</td>\n",
       "    </tr>\n",
       "    <tr>\n",
       "      <th>1</th>\n",
       "      <td>2</td>\n",
       "      <td>Male</td>\n",
       "      <td>28</td>\n",
       "      <td>Doctor</td>\n",
       "      <td>6.2</td>\n",
       "      <td>6</td>\n",
       "      <td>60</td>\n",
       "      <td>8</td>\n",
       "      <td>Normal</td>\n",
       "      <td>125/80</td>\n",
       "      <td>75</td>\n",
       "      <td>10000</td>\n",
       "      <td>NaN</td>\n",
       "    </tr>\n",
       "    <tr>\n",
       "      <th>2</th>\n",
       "      <td>3</td>\n",
       "      <td>Male</td>\n",
       "      <td>28</td>\n",
       "      <td>Doctor</td>\n",
       "      <td>6.2</td>\n",
       "      <td>6</td>\n",
       "      <td>60</td>\n",
       "      <td>8</td>\n",
       "      <td>Normal</td>\n",
       "      <td>125/80</td>\n",
       "      <td>75</td>\n",
       "      <td>10000</td>\n",
       "      <td>NaN</td>\n",
       "    </tr>\n",
       "    <tr>\n",
       "      <th>3</th>\n",
       "      <td>4</td>\n",
       "      <td>Male</td>\n",
       "      <td>28</td>\n",
       "      <td>Sales Representative</td>\n",
       "      <td>5.9</td>\n",
       "      <td>4</td>\n",
       "      <td>30</td>\n",
       "      <td>8</td>\n",
       "      <td>Obese</td>\n",
       "      <td>140/90</td>\n",
       "      <td>85</td>\n",
       "      <td>3000</td>\n",
       "      <td>Sleep Apnea</td>\n",
       "    </tr>\n",
       "    <tr>\n",
       "      <th>4</th>\n",
       "      <td>5</td>\n",
       "      <td>Male</td>\n",
       "      <td>28</td>\n",
       "      <td>Sales Representative</td>\n",
       "      <td>5.9</td>\n",
       "      <td>4</td>\n",
       "      <td>30</td>\n",
       "      <td>8</td>\n",
       "      <td>Obese</td>\n",
       "      <td>140/90</td>\n",
       "      <td>85</td>\n",
       "      <td>3000</td>\n",
       "      <td>Sleep Apnea</td>\n",
       "    </tr>\n",
       "  </tbody>\n",
       "</table>\n",
       "</div>"
      ],
      "text/plain": [
       "   Person ID Gender  Age            Occupation  Sleep Duration  \\\n",
       "0          1   Male   27     Software Engineer             6.1   \n",
       "1          2   Male   28                Doctor             6.2   \n",
       "2          3   Male   28                Doctor             6.2   \n",
       "3          4   Male   28  Sales Representative             5.9   \n",
       "4          5   Male   28  Sales Representative             5.9   \n",
       "\n",
       "   Quality of Sleep  Physical Activity Level  Stress Level BMI Category  \\\n",
       "0                 6                       42             6   Overweight   \n",
       "1                 6                       60             8       Normal   \n",
       "2                 6                       60             8       Normal   \n",
       "3                 4                       30             8        Obese   \n",
       "4                 4                       30             8        Obese   \n",
       "\n",
       "  Blood Pressure  Heart Rate  Daily Steps Sleep Disorder  \n",
       "0         126/83          77         4200            NaN  \n",
       "1         125/80          75        10000            NaN  \n",
       "2         125/80          75        10000            NaN  \n",
       "3         140/90          85         3000    Sleep Apnea  \n",
       "4         140/90          85         3000    Sleep Apnea  "
      ]
     },
     "execution_count": 2,
     "metadata": {},
     "output_type": "execute_result"
    }
   ],
   "source": [
    "from src.pre_process import load_data\n",
    "\n",
    "path1 = '../data/Sleep_health_and_lifestyle_dataset.csv'\n",
    "path2 = '../data/Sleep_health_and_lifestyle_dataset_part_2.csv'\n",
    "\n",
    "df = load_data(path1, path2)\n",
    "df.head()"
   ]
  },
  {
   "cell_type": "markdown",
   "metadata": {
    "id": "0FyqAc8vKazC"
   },
   "source": [
    "## Exploring the data set"
   ]
  },
  {
   "cell_type": "code",
   "execution_count": 3,
   "metadata": {
    "id": "FaT6_3sbKazD"
   },
   "outputs": [
    {
     "name": "stdout",
     "output_type": "stream",
     "text": [
      "<class 'pandas.core.frame.DataFrame'>\n",
      "Index: 560 entries, 0 to 185\n",
      "Data columns (total 13 columns):\n",
      " #   Column                   Non-Null Count  Dtype  \n",
      "---  ------                   --------------  -----  \n",
      " 0   Person ID                560 non-null    int64  \n",
      " 1   Gender                   560 non-null    object \n",
      " 2   Age                      560 non-null    int64  \n",
      " 3   Occupation               560 non-null    object \n",
      " 4   Sleep Duration           560 non-null    float64\n",
      " 5   Quality of Sleep         560 non-null    int64  \n",
      " 6   Physical Activity Level  560 non-null    int64  \n",
      " 7   Stress Level             560 non-null    int64  \n",
      " 8   BMI Category             560 non-null    object \n",
      " 9   Blood Pressure           560 non-null    object \n",
      " 10  Heart Rate               560 non-null    int64  \n",
      " 11  Daily Steps              560 non-null    int64  \n",
      " 12  Sleep Disorder           185 non-null    object \n",
      "dtypes: float64(1), int64(7), object(5)\n",
      "memory usage: 61.2+ KB\n"
     ]
    }
   ],
   "source": [
    "df.info()"
   ]
  },
  {
   "cell_type": "code",
   "execution_count": 4,
   "metadata": {
    "id": "GMKUmNTKKazE"
   },
   "outputs": [
    {
     "data": {
      "text/html": [
       "<div>\n",
       "<style scoped>\n",
       "    .dataframe tbody tr th:only-of-type {\n",
       "        vertical-align: middle;\n",
       "    }\n",
       "\n",
       "    .dataframe tbody tr th {\n",
       "        vertical-align: top;\n",
       "    }\n",
       "\n",
       "    .dataframe thead th {\n",
       "        text-align: right;\n",
       "    }\n",
       "</style>\n",
       "<table border=\"1\" class=\"dataframe\">\n",
       "  <thead>\n",
       "    <tr style=\"text-align: right;\">\n",
       "      <th></th>\n",
       "      <th>Person ID</th>\n",
       "      <th>Age</th>\n",
       "      <th>Sleep Duration</th>\n",
       "      <th>Quality of Sleep</th>\n",
       "      <th>Physical Activity Level</th>\n",
       "      <th>Stress Level</th>\n",
       "      <th>Heart Rate</th>\n",
       "      <th>Daily Steps</th>\n",
       "    </tr>\n",
       "  </thead>\n",
       "  <tbody>\n",
       "    <tr>\n",
       "      <th>count</th>\n",
       "      <td>560.000000</td>\n",
       "      <td>560.000000</td>\n",
       "      <td>560.000000</td>\n",
       "      <td>560.000000</td>\n",
       "      <td>560.000000</td>\n",
       "      <td>560.000000</td>\n",
       "      <td>560.000000</td>\n",
       "      <td>560.000000</td>\n",
       "    </tr>\n",
       "    <tr>\n",
       "      <th>mean</th>\n",
       "      <td>280.167857</td>\n",
       "      <td>40.021429</td>\n",
       "      <td>7.115893</td>\n",
       "      <td>7.275000</td>\n",
       "      <td>58.787500</td>\n",
       "      <td>5.458929</td>\n",
       "      <td>70.178571</td>\n",
       "      <td>6821.071429</td>\n",
       "    </tr>\n",
       "    <tr>\n",
       "      <th>std</th>\n",
       "      <td>161.418024</td>\n",
       "      <td>8.132153</td>\n",
       "      <td>0.742655</td>\n",
       "      <td>1.134631</td>\n",
       "      <td>19.955394</td>\n",
       "      <td>1.676447</td>\n",
       "      <td>3.873247</td>\n",
       "      <td>1527.465518</td>\n",
       "    </tr>\n",
       "    <tr>\n",
       "      <th>min</th>\n",
       "      <td>1.000000</td>\n",
       "      <td>27.000000</td>\n",
       "      <td>5.800000</td>\n",
       "      <td>4.000000</td>\n",
       "      <td>30.000000</td>\n",
       "      <td>3.000000</td>\n",
       "      <td>65.000000</td>\n",
       "      <td>3000.000000</td>\n",
       "    </tr>\n",
       "    <tr>\n",
       "      <th>25%</th>\n",
       "      <td>140.750000</td>\n",
       "      <td>33.000000</td>\n",
       "      <td>6.500000</td>\n",
       "      <td>6.000000</td>\n",
       "      <td>45.000000</td>\n",
       "      <td>4.000000</td>\n",
       "      <td>68.000000</td>\n",
       "      <td>5500.000000</td>\n",
       "    </tr>\n",
       "    <tr>\n",
       "      <th>50%</th>\n",
       "      <td>280.500000</td>\n",
       "      <td>38.000000</td>\n",
       "      <td>7.200000</td>\n",
       "      <td>7.000000</td>\n",
       "      <td>60.000000</td>\n",
       "      <td>5.000000</td>\n",
       "      <td>70.000000</td>\n",
       "      <td>7000.000000</td>\n",
       "    </tr>\n",
       "    <tr>\n",
       "      <th>75%</th>\n",
       "      <td>419.250000</td>\n",
       "      <td>44.000000</td>\n",
       "      <td>7.700000</td>\n",
       "      <td>8.000000</td>\n",
       "      <td>75.000000</td>\n",
       "      <td>7.000000</td>\n",
       "      <td>72.000000</td>\n",
       "      <td>8000.000000</td>\n",
       "    </tr>\n",
       "    <tr>\n",
       "      <th>max</th>\n",
       "      <td>559.000000</td>\n",
       "      <td>59.000000</td>\n",
       "      <td>8.500000</td>\n",
       "      <td>9.000000</td>\n",
       "      <td>90.000000</td>\n",
       "      <td>8.000000</td>\n",
       "      <td>86.000000</td>\n",
       "      <td>10000.000000</td>\n",
       "    </tr>\n",
       "  </tbody>\n",
       "</table>\n",
       "</div>"
      ],
      "text/plain": [
       "        Person ID         Age  Sleep Duration  Quality of Sleep  \\\n",
       "count  560.000000  560.000000      560.000000        560.000000   \n",
       "mean   280.167857   40.021429        7.115893          7.275000   \n",
       "std    161.418024    8.132153        0.742655          1.134631   \n",
       "min      1.000000   27.000000        5.800000          4.000000   \n",
       "25%    140.750000   33.000000        6.500000          6.000000   \n",
       "50%    280.500000   38.000000        7.200000          7.000000   \n",
       "75%    419.250000   44.000000        7.700000          8.000000   \n",
       "max    559.000000   59.000000        8.500000          9.000000   \n",
       "\n",
       "       Physical Activity Level  Stress Level  Heart Rate   Daily Steps  \n",
       "count               560.000000    560.000000  560.000000    560.000000  \n",
       "mean                 58.787500      5.458929   70.178571   6821.071429  \n",
       "std                  19.955394      1.676447    3.873247   1527.465518  \n",
       "min                  30.000000      3.000000   65.000000   3000.000000  \n",
       "25%                  45.000000      4.000000   68.000000   5500.000000  \n",
       "50%                  60.000000      5.000000   70.000000   7000.000000  \n",
       "75%                  75.000000      7.000000   72.000000   8000.000000  \n",
       "max                  90.000000      8.000000   86.000000  10000.000000  "
      ]
     },
     "execution_count": 4,
     "metadata": {},
     "output_type": "execute_result"
    }
   ],
   "source": [
    "df.describe()"
   ]
  },
  {
   "cell_type": "markdown",
   "metadata": {
    "id": "qIHZbciaKazG"
   },
   "source": [
    "# Dropping Irrelevant Features\n",
    "- Here, the Person ID feature is irrelevant for our model training. Hence it is dropped\n",
    "- Note that the drop is done in-place"
   ]
  },
  {
   "cell_type": "code",
   "execution_count": 5,
   "metadata": {
    "id": "AVvPEJC0KazH"
   },
   "outputs": [],
   "source": [
    "df = df.drop('Person ID', axis=1)"
   ]
  },
  {
   "cell_type": "markdown",
   "metadata": {
    "id": "b_vQad-0KazH"
   },
   "source": [
    "# Handling NA values  "
   ]
  },
  {
   "cell_type": "code",
   "execution_count": 6,
   "metadata": {
    "id": "Jy_Cdkv1KazJ"
   },
   "outputs": [
    {
     "data": {
      "text/plain": [
       "Gender                       0\n",
       "Age                          0\n",
       "Occupation                   0\n",
       "Sleep Duration               0\n",
       "Quality of Sleep             0\n",
       "Physical Activity Level      0\n",
       "Stress Level                 0\n",
       "BMI Category                 0\n",
       "Blood Pressure               0\n",
       "Heart Rate                   0\n",
       "Daily Steps                  0\n",
       "Sleep Disorder             375\n",
       "dtype: int64"
      ]
     },
     "execution_count": 6,
     "metadata": {},
     "output_type": "execute_result"
    }
   ],
   "source": [
    "df.isnull().sum()"
   ]
  },
  {
   "cell_type": "markdown",
   "metadata": {
    "id": "r82RyU8fKazK"
   },
   "source": [
    "- NA values found in 'Sleep Disorder' indicates that the person doesn't have any sleep disorders\n",
    "- so instead of treating it as NA value we will assign 'None' to it"
   ]
  },
  {
   "cell_type": "code",
   "execution_count": 7,
   "metadata": {
    "id": "c7d0q8ZpKazK"
   },
   "outputs": [],
   "source": [
    "df['Sleep Disorder'] = df['Sleep Disorder'].fillna('None')"
   ]
  },
  {
   "cell_type": "code",
   "execution_count": 8,
   "metadata": {
    "id": "jP9mElUEKazL"
   },
   "outputs": [
    {
     "data": {
      "text/plain": [
       "Gender                     0\n",
       "Age                        0\n",
       "Occupation                 0\n",
       "Sleep Duration             0\n",
       "Quality of Sleep           0\n",
       "Physical Activity Level    0\n",
       "Stress Level               0\n",
       "BMI Category               0\n",
       "Blood Pressure             0\n",
       "Heart Rate                 0\n",
       "Daily Steps                0\n",
       "Sleep Disorder             0\n",
       "dtype: int64"
      ]
     },
     "execution_count": 8,
     "metadata": {},
     "output_type": "execute_result"
    }
   ],
   "source": [
    "df.isnull().sum()"
   ]
  },
  {
   "cell_type": "code",
   "execution_count": 9,
   "metadata": {
    "id": "YKCZtiWdKazM"
   },
   "outputs": [
    {
     "data": {
      "text/html": [
       "<div>\n",
       "<style scoped>\n",
       "    .dataframe tbody tr th:only-of-type {\n",
       "        vertical-align: middle;\n",
       "    }\n",
       "\n",
       "    .dataframe tbody tr th {\n",
       "        vertical-align: top;\n",
       "    }\n",
       "\n",
       "    .dataframe thead th {\n",
       "        text-align: right;\n",
       "    }\n",
       "</style>\n",
       "<table border=\"1\" class=\"dataframe\">\n",
       "  <thead>\n",
       "    <tr style=\"text-align: right;\">\n",
       "      <th></th>\n",
       "      <th>Gender</th>\n",
       "      <th>Age</th>\n",
       "      <th>Occupation</th>\n",
       "      <th>Sleep Duration</th>\n",
       "      <th>Quality of Sleep</th>\n",
       "      <th>Physical Activity Level</th>\n",
       "      <th>Stress Level</th>\n",
       "      <th>BMI Category</th>\n",
       "      <th>Blood Pressure</th>\n",
       "      <th>Heart Rate</th>\n",
       "      <th>Daily Steps</th>\n",
       "      <th>Sleep Disorder</th>\n",
       "    </tr>\n",
       "  </thead>\n",
       "  <tbody>\n",
       "    <tr>\n",
       "      <th>0</th>\n",
       "      <td>Male</td>\n",
       "      <td>27</td>\n",
       "      <td>Software Engineer</td>\n",
       "      <td>6.1</td>\n",
       "      <td>6</td>\n",
       "      <td>42</td>\n",
       "      <td>6</td>\n",
       "      <td>Overweight</td>\n",
       "      <td>126/83</td>\n",
       "      <td>77</td>\n",
       "      <td>4200</td>\n",
       "      <td>None</td>\n",
       "    </tr>\n",
       "    <tr>\n",
       "      <th>1</th>\n",
       "      <td>Male</td>\n",
       "      <td>28</td>\n",
       "      <td>Doctor</td>\n",
       "      <td>6.2</td>\n",
       "      <td>6</td>\n",
       "      <td>60</td>\n",
       "      <td>8</td>\n",
       "      <td>Normal</td>\n",
       "      <td>125/80</td>\n",
       "      <td>75</td>\n",
       "      <td>10000</td>\n",
       "      <td>None</td>\n",
       "    </tr>\n",
       "    <tr>\n",
       "      <th>2</th>\n",
       "      <td>Male</td>\n",
       "      <td>28</td>\n",
       "      <td>Doctor</td>\n",
       "      <td>6.2</td>\n",
       "      <td>6</td>\n",
       "      <td>60</td>\n",
       "      <td>8</td>\n",
       "      <td>Normal</td>\n",
       "      <td>125/80</td>\n",
       "      <td>75</td>\n",
       "      <td>10000</td>\n",
       "      <td>None</td>\n",
       "    </tr>\n",
       "    <tr>\n",
       "      <th>3</th>\n",
       "      <td>Male</td>\n",
       "      <td>28</td>\n",
       "      <td>Sales Representative</td>\n",
       "      <td>5.9</td>\n",
       "      <td>4</td>\n",
       "      <td>30</td>\n",
       "      <td>8</td>\n",
       "      <td>Obese</td>\n",
       "      <td>140/90</td>\n",
       "      <td>85</td>\n",
       "      <td>3000</td>\n",
       "      <td>Sleep Apnea</td>\n",
       "    </tr>\n",
       "    <tr>\n",
       "      <th>4</th>\n",
       "      <td>Male</td>\n",
       "      <td>28</td>\n",
       "      <td>Sales Representative</td>\n",
       "      <td>5.9</td>\n",
       "      <td>4</td>\n",
       "      <td>30</td>\n",
       "      <td>8</td>\n",
       "      <td>Obese</td>\n",
       "      <td>140/90</td>\n",
       "      <td>85</td>\n",
       "      <td>3000</td>\n",
       "      <td>Sleep Apnea</td>\n",
       "    </tr>\n",
       "    <tr>\n",
       "      <th>...</th>\n",
       "      <td>...</td>\n",
       "      <td>...</td>\n",
       "      <td>...</td>\n",
       "      <td>...</td>\n",
       "      <td>...</td>\n",
       "      <td>...</td>\n",
       "      <td>...</td>\n",
       "      <td>...</td>\n",
       "      <td>...</td>\n",
       "      <td>...</td>\n",
       "      <td>...</td>\n",
       "      <td>...</td>\n",
       "    </tr>\n",
       "    <tr>\n",
       "      <th>181</th>\n",
       "      <td>Female</td>\n",
       "      <td>43</td>\n",
       "      <td>Teacher</td>\n",
       "      <td>6.7</td>\n",
       "      <td>7</td>\n",
       "      <td>45</td>\n",
       "      <td>4</td>\n",
       "      <td>Overweight</td>\n",
       "      <td>135/90</td>\n",
       "      <td>65</td>\n",
       "      <td>6000</td>\n",
       "      <td>Insomnia</td>\n",
       "    </tr>\n",
       "    <tr>\n",
       "      <th>182</th>\n",
       "      <td>Male</td>\n",
       "      <td>43</td>\n",
       "      <td>Salesperson</td>\n",
       "      <td>6.5</td>\n",
       "      <td>6</td>\n",
       "      <td>45</td>\n",
       "      <td>7</td>\n",
       "      <td>Overweight</td>\n",
       "      <td>130/85</td>\n",
       "      <td>72</td>\n",
       "      <td>6000</td>\n",
       "      <td>Insomnia</td>\n",
       "    </tr>\n",
       "    <tr>\n",
       "      <th>183</th>\n",
       "      <td>Female</td>\n",
       "      <td>43</td>\n",
       "      <td>Teacher</td>\n",
       "      <td>6.7</td>\n",
       "      <td>7</td>\n",
       "      <td>45</td>\n",
       "      <td>4</td>\n",
       "      <td>Overweight</td>\n",
       "      <td>135/90</td>\n",
       "      <td>65</td>\n",
       "      <td>6000</td>\n",
       "      <td>Insomnia</td>\n",
       "    </tr>\n",
       "    <tr>\n",
       "      <th>184</th>\n",
       "      <td>Male</td>\n",
       "      <td>43</td>\n",
       "      <td>Salesperson</td>\n",
       "      <td>6.4</td>\n",
       "      <td>6</td>\n",
       "      <td>45</td>\n",
       "      <td>7</td>\n",
       "      <td>Overweight</td>\n",
       "      <td>130/85</td>\n",
       "      <td>72</td>\n",
       "      <td>6000</td>\n",
       "      <td>Insomnia</td>\n",
       "    </tr>\n",
       "    <tr>\n",
       "      <th>185</th>\n",
       "      <td>Male</td>\n",
       "      <td>43</td>\n",
       "      <td>Salesperson</td>\n",
       "      <td>6.5</td>\n",
       "      <td>6</td>\n",
       "      <td>45</td>\n",
       "      <td>7</td>\n",
       "      <td>Overweight</td>\n",
       "      <td>130/85</td>\n",
       "      <td>72</td>\n",
       "      <td>6000</td>\n",
       "      <td>Insomnia</td>\n",
       "    </tr>\n",
       "  </tbody>\n",
       "</table>\n",
       "<p>560 rows × 12 columns</p>\n",
       "</div>"
      ],
      "text/plain": [
       "     Gender  Age            Occupation  Sleep Duration  Quality of Sleep  \\\n",
       "0      Male   27     Software Engineer             6.1                 6   \n",
       "1      Male   28                Doctor             6.2                 6   \n",
       "2      Male   28                Doctor             6.2                 6   \n",
       "3      Male   28  Sales Representative             5.9                 4   \n",
       "4      Male   28  Sales Representative             5.9                 4   \n",
       "..      ...  ...                   ...             ...               ...   \n",
       "181  Female   43               Teacher             6.7                 7   \n",
       "182    Male   43           Salesperson             6.5                 6   \n",
       "183  Female   43               Teacher             6.7                 7   \n",
       "184    Male   43           Salesperson             6.4                 6   \n",
       "185    Male   43           Salesperson             6.5                 6   \n",
       "\n",
       "     Physical Activity Level  Stress Level BMI Category Blood Pressure  \\\n",
       "0                         42             6   Overweight         126/83   \n",
       "1                         60             8       Normal         125/80   \n",
       "2                         60             8       Normal         125/80   \n",
       "3                         30             8        Obese         140/90   \n",
       "4                         30             8        Obese         140/90   \n",
       "..                       ...           ...          ...            ...   \n",
       "181                       45             4   Overweight         135/90   \n",
       "182                       45             7   Overweight         130/85   \n",
       "183                       45             4   Overweight         135/90   \n",
       "184                       45             7   Overweight         130/85   \n",
       "185                       45             7   Overweight         130/85   \n",
       "\n",
       "     Heart Rate  Daily Steps Sleep Disorder  \n",
       "0            77         4200           None  \n",
       "1            75        10000           None  \n",
       "2            75        10000           None  \n",
       "3            85         3000    Sleep Apnea  \n",
       "4            85         3000    Sleep Apnea  \n",
       "..          ...          ...            ...  \n",
       "181          65         6000       Insomnia  \n",
       "182          72         6000       Insomnia  \n",
       "183          65         6000       Insomnia  \n",
       "184          72         6000       Insomnia  \n",
       "185          72         6000       Insomnia  \n",
       "\n",
       "[560 rows x 12 columns]"
      ]
     },
     "execution_count": 9,
     "metadata": {},
     "output_type": "execute_result"
    }
   ],
   "source": [
    "df"
   ]
  },
  {
   "cell_type": "markdown",
   "metadata": {
    "id": "dBhPfVKPKazP"
   },
   "source": [
    "## Handling the 'Blood Pressure' column \n",
    "- Blood pressure has a systolic and a diastolic pressure in (high/low) format\n",
    "- Hence, splitting it into Diastolic Pressure and Systolic Pressure"
   ]
  },
  {
   "cell_type": "code",
   "execution_count": null,
   "metadata": {
    "id": "qMvaTkihKazP"
   },
   "outputs": [
    {
     "ename": "ModuleNotFoundError",
     "evalue": "No module named 'pre_process'",
     "output_type": "error",
     "traceback": [
      "\u001b[31m---------------------------------------------------------------------------\u001b[39m",
      "\u001b[31mModuleNotFoundError\u001b[39m                       Traceback (most recent call last)",
      "\u001b[36mCell\u001b[39m\u001b[36m \u001b[39m\u001b[32mIn[10]\u001b[39m\u001b[32m, line 1\u001b[39m\n\u001b[32m----> \u001b[39m\u001b[32m1\u001b[39m \u001b[38;5;28;01mfrom\u001b[39;00m\u001b[38;5;250m \u001b[39m\u001b[34;01mpre_process\u001b[39;00m\u001b[38;5;250m \u001b[39m\u001b[38;5;28;01mimport\u001b[39;00m handle_bp\n\u001b[32m      3\u001b[39m df = handle_bp(df)\n\u001b[32m      4\u001b[39m df\n",
      "\u001b[31mModuleNotFoundError\u001b[39m: No module named 'pre_process'"
     ]
    }
   ],
   "source": [
    "from src.pre_process import handle_bp\n",
    "\n",
    "df = handle_bp(df)\n",
    "df"
   ]
  },
  {
   "cell_type": "markdown",
   "metadata": {
    "id": "WqRO7w5OKazc"
   },
   "source": [
    "## Using LabelEncoders to Encode the Categorical Data\n",
    "- We also store a dictionary of encoders so that we can also Transform the unseen data into the same format"
   ]
  },
  {
   "cell_type": "code",
   "execution_count": null,
   "metadata": {
    "id": "xmI_czfpKazd"
   },
   "outputs": [],
   "source": [
    "from pre_process import categorical_features, numeric_features, encode"
   ]
  },
  {
   "cell_type": "code",
   "execution_count": null,
   "metadata": {},
   "outputs": [],
   "source": [
    "catData = categorical_features(df)\n",
    "print('categorical features are :',catData)"
   ]
  },
  {
   "cell_type": "code",
   "execution_count": null,
   "metadata": {
    "id": "GzZFDf6aKazd"
   },
   "outputs": [],
   "source": [
    "numData = numeric_features(df)\n",
    "print('numeric features are :',catData)"
   ]
  },
  {
   "cell_type": "code",
   "execution_count": null,
   "metadata": {
    "id": "rPFmJhPMKaze"
   },
   "outputs": [],
   "source": [
    "enc_res = encode(df)\n",
    "df = enc_res[0]\n",
    "label_encoding_dict = enc_res[1]\n",
    "df"
   ]
  },
  {
   "cell_type": "markdown",
   "metadata": {
    "id": "vwAtSx_NKaze"
   },
   "source": [
    "# Distribution of target features"
   ]
  },
  {
   "cell_type": "code",
   "execution_count": null,
   "metadata": {
    "id": "CT7jL9W3Kaze"
   },
   "outputs": [],
   "source": [
    "import matplotlib.pyplot as plt\n",
    "from src.plotting import distr_tgt_feat\n",
    "\n",
    "distr_tgt_feat(label_encoding_dict, df)"
   ]
  },
  {
   "cell_type": "markdown",
   "metadata": {
    "id": "6IqeiP2-Kazf"
   },
   "source": [
    "# Boxplot of Features"
   ]
  },
  {
   "cell_type": "code",
   "execution_count": null,
   "metadata": {
    "id": "G0TPHq_zKazf"
   },
   "outputs": [],
   "source": [
    "from src.plotting import boxplot\n",
    "\n",
    "boxplot(df)"
   ]
  },
  {
   "cell_type": "markdown",
   "metadata": {
    "id": "P8fNLA3kKazg"
   },
   "source": [
    "## Correlation analysis"
   ]
  },
  {
   "cell_type": "code",
   "execution_count": null,
   "metadata": {
    "id": "5HZK_KqhKazg"
   },
   "outputs": [],
   "source": [
    "\n",
    "from src.plotting import correlation_analysis\n",
    "\n",
    "correlation_analysis(df)"
   ]
  },
  {
   "cell_type": "markdown",
   "metadata": {
    "id": "yux4Rd-1Kazh"
   },
   "source": [
    "## Analysis\n",
    "The correlation heatmap provides insights into the relationships between different features in the dataset\n",
    "From the above heatmap, we can see that :-\n",
    "- Systolic and Diastolic Pressures are highly correlated (+ve)\n",
    "- Quality of Sleep and Sleep duration (+ve )\n",
    "- Stress level and Quality of sleep / Sleep duaration (-ve)\n",
    "- Daily steps and physical activity level (+ve)"
   ]
  },
  {
   "cell_type": "markdown",
   "metadata": {
    "id": "1kYRqCyfKazk"
   },
   "source": [
    "# Standardisation of Data"
   ]
  },
  {
   "cell_type": "code",
   "execution_count": null,
   "metadata": {
    "id": "cGS5zg8eKazm"
   },
   "outputs": [],
   "source": [
    "# Standardize the data\n",
    "from pre_process import standardise\n",
    "from sklearn.preprocessing import StandardScaler\n",
    "\n",
    "df = standardise(df)\n",
    "df"
   ]
  },
  {
   "cell_type": "markdown",
   "metadata": {
    "id": "S5P7TdZKKaz2"
   },
   "source": [
    "# Building Regression models for Stress level Prediction"
   ]
  },
  {
   "cell_type": "code",
   "execution_count": null,
   "metadata": {
    "id": "wGKyvRHZKaz3"
   },
   "outputs": [],
   "source": [
    "\n",
    "# Regression\n",
    "tgt1 = df['Stress Level']\n",
    "feat1 = df.drop(columns = ['Stress Level','Sleep Disorder'])\n"
   ]
  },
  {
   "cell_type": "code",
   "execution_count": null,
   "metadata": {
    "id": "DJFApBcpKaz4"
   },
   "outputs": [],
   "source": [
    "from src.regression import get_training_scores\n",
    "\n",
    "scoreList = get_training_scores(df)"
   ]
  },
  {
   "cell_type": "code",
   "execution_count": null,
   "metadata": {
    "id": "xFA9UF9SKaz5"
   },
   "outputs": [],
   "source": [
    "from src.plotting import regression_results\n",
    "\n",
    "regression_results(scoreList)"
   ]
  },
  {
   "cell_type": "markdown",
   "metadata": {
    "id": "AokUApEgKaz5"
   },
   "source": [
    "# From the above plot, we select the degree of polynomial features as 3"
   ]
  },
  {
   "cell_type": "code",
   "execution_count": null,
   "metadata": {
    "id": "9qxhgoyYKaz6"
   },
   "outputs": [],
   "source": [
    "from src.regression import regress\n",
    "\n",
    "regress(feat1, tgt1)"
   ]
  },
  {
   "cell_type": "markdown",
   "metadata": {
    "id": "klMCYLlpB-gj"
   },
   "source": [
    "## Classification"
   ]
  },
  {
   "cell_type": "code",
   "execution_count": null,
   "metadata": {
    "id": "FM7cta2KKaz8"
   },
   "outputs": [],
   "source": [
    "X = df.drop(columns=['Stress Level','Sleep Disorder'])\n",
    "y = df['Sleep Disorder']"
   ]
  },
  {
   "cell_type": "markdown",
   "metadata": {
    "id": "jRqmKzmtKaz7"
   },
   "source": [
    "# Building Models for Classification of Sleep Disorders"
   ]
  },
  {
   "cell_type": "code",
   "execution_count": null,
   "metadata": {
    "id": "XP9ehrNDKaz9"
   },
   "outputs": [],
   "source": [
    "from sklearn.model_selection import train_test_split\n",
    "\n",
    "X_train, X_test, y_train, y_test = train_test_split(\n",
    "    X, y, test_size=0.3, random_state=42)"
   ]
  },
  {
   "cell_type": "code",
   "execution_count": null,
   "metadata": {
    "id": "c_7goQa6Kaz9"
   },
   "outputs": [],
   "source": [
    "from sklearn.svm import SVC\n",
    "from sklearn.metrics import classification_report\n",
    "from src.classification import classify_svc\n",
    "\n",
    "classify_svc(X_train, y_train, X_test, y_test, kernel = 'linear')"
   ]
  },
  {
   "cell_type": "markdown",
   "metadata": {
    "id": "Bwk4Hf6CQRH1"
   },
   "source": [
    "# Using over sampling method SMOTE to balance the data"
   ]
  },
  {
   "cell_type": "code",
   "execution_count": null,
   "metadata": {
    "id": "w4gYxp88QNKO"
   },
   "outputs": [],
   "source": [
    "from collections import Counter\n",
    "\n",
    "# Checking for imbalanced data\n",
    "cc = Counter(y_train)\n",
    "cc"
   ]
  },
  {
   "cell_type": "code",
   "execution_count": null,
   "metadata": {
    "id": "Loa8ZWOuQOJo"
   },
   "outputs": [],
   "source": [
    "# Bad news, we actually have a large amount of imbalanced data\n",
    "# So using a imbalanced learn method helps us to predict good observations\n",
    "# Using SMOTE: Synthetic Minority Oversampling Technique\n",
    "\n",
    "from src.sampling import resample_smote\n",
    "\n",
    "X_smote, y_smote = resample_smote(X_train, y_train)"
   ]
  },
  {
   "cell_type": "code",
   "execution_count": null,
   "metadata": {
    "id": "oYfpJ4bFQqW2"
   },
   "outputs": [],
   "source": [
    "cc = Counter(y_smote)\n",
    "cc"
   ]
  },
  {
   "cell_type": "markdown",
   "metadata": {
    "id": "wznJoWHji95I"
   },
   "source": [
    "## Using Undersampling Method"
   ]
  },
  {
   "cell_type": "code",
   "execution_count": null,
   "metadata": {
    "id": "dbxE_jfOtzfX"
   },
   "outputs": [],
   "source": [
    "from src.sampling import resample_cc\n",
    "\n",
    "X_clc, y_clc = resample_cc(X_train, y_train)"
   ]
  },
  {
   "cell_type": "code",
   "execution_count": null,
   "metadata": {
    "id": "tuLiBAEtcYg1"
   },
   "outputs": [],
   "source": [
    "from src.sampling import resample_iht\n",
    "\n",
    "X_clc, y_clc = resample_iht(X_train, y_train)"
   ]
  },
  {
   "cell_type": "code",
   "execution_count": null,
   "metadata": {
    "id": "qwJzCRxCdOtt"
   },
   "outputs": [],
   "source": [
    "cc = Counter(y_clc)\n",
    "cc"
   ]
  },
  {
   "cell_type": "markdown",
   "metadata": {
    "id": "Vfm_Vo7xQNcy"
   },
   "source": [
    "# Using Randomized search CV"
   ]
  },
  {
   "cell_type": "markdown",
   "metadata": {
    "id": "ta7xuJQojXgl"
   },
   "source": [
    "## Initial Data"
   ]
  },
  {
   "cell_type": "code",
   "execution_count": null,
   "metadata": {
    "id": "FMdKCgRyP8zs"
   },
   "outputs": [],
   "source": [
    "from scipy.stats import uniform\n",
    "from src.hyperparameter_tuning import run_randomised_search_svc\n",
    "\n",
    "gammaValues = ['scale', 'auto']\n",
    "param_grid = {\n",
    "    'kernel': ['linear', 'rbf', 'poly'],\n",
    "    'C': uniform(1e-5, 10),\n",
    "    'degree': [i for i in range(1, 20)],\n",
    "    'gamma': gammaValues,\n",
    "    'decision_function_shape': ['ovo', 'ovr']\n",
    "}\n",
    "\n"
   ]
  },
  {
   "cell_type": "code",
   "execution_count": null,
   "metadata": {
    "id": "pfyot7PzQTBi"
   },
   "outputs": [],
   "source": [
    "rand_clf = run_randomised_search_svc(X_train, y_train, param_grid)"
   ]
  },
  {
   "cell_type": "code",
   "execution_count": null,
   "metadata": {},
   "outputs": [],
   "source": [
    "rand_clf.best_params_"
   ]
  },
  {
   "cell_type": "code",
   "execution_count": null,
   "metadata": {
    "id": "K8BOpuB5QbKB"
   },
   "outputs": [],
   "source": [
    "# Printing the classification report for the randomized search hyper parameter tuned model\n",
    "y_pred = rand_clf.predict(X_test)\n",
    "\n",
    "print(\"The classification report after using randomized search CV\\n\", classification_report(y_test, y_pred))"
   ]
  },
  {
   "cell_type": "code",
   "execution_count": null,
   "metadata": {
    "id": "Wqh7VOtWQeWh"
   },
   "outputs": [],
   "source": [
    "# Printing the confusion matrix for the randomized search hyper parameter tuned model\n",
    "from sklearn.metrics import confusion_matrix, ConfusionMatrixDisplay\n",
    "\n",
    "ConfusionMatrixDisplay(confusion_matrix(y_test, y_pred))"
   ]
  },
  {
   "cell_type": "markdown",
   "metadata": {
    "id": "AO4TdGm6UNWF"
   },
   "source": [
    "# Randomized search CV for SMOTE"
   ]
  },
  {
   "cell_type": "code",
   "execution_count": null,
   "metadata": {
    "id": "8awzxGkDThnu"
   },
   "outputs": [],
   "source": [
    "rand_clf = run_randomised_search_svc(X_smote, y_smote, param_grid)"
   ]
  },
  {
   "cell_type": "code",
   "execution_count": null,
   "metadata": {},
   "outputs": [],
   "source": [
    "rand_clf.best_params_"
   ]
  },
  {
   "cell_type": "code",
   "execution_count": null,
   "metadata": {
    "id": "AeNHazAVTwjo"
   },
   "outputs": [],
   "source": [
    "# Printing the classification report for the randomized search hyper parameter tuned model\n",
    "\n",
    "y_pred = rand_clf.predict(X_test)\n",
    "\n",
    "print(\"The classification report after using randomized search CV\\n\", classification_report(y_test, y_pred))"
   ]
  },
  {
   "cell_type": "code",
   "execution_count": null,
   "metadata": {
    "id": "ArlZt1_fT0yQ"
   },
   "outputs": [],
   "source": [
    "confusion_matrix(y_test, y_pred)"
   ]
  },
  {
   "cell_type": "markdown",
   "metadata": {
    "id": "9LNlF7SHd2mF"
   },
   "source": [
    "# RandomizedSearchCV for Under Sampled Data"
   ]
  },
  {
   "cell_type": "code",
   "execution_count": null,
   "metadata": {
    "id": "PsoGTJaSd-yp"
   },
   "outputs": [],
   "source": [
    "rand_clf = run_randomised_search_svc(X_clc, y_clc, param_grid)"
   ]
  },
  {
   "cell_type": "code",
   "execution_count": null,
   "metadata": {
    "id": "iQHuOJVxeIGr"
   },
   "outputs": [],
   "source": [
    "rand_clf.best_params_"
   ]
  },
  {
   "cell_type": "code",
   "execution_count": null,
   "metadata": {
    "id": "l8QX2h1zeKuS"
   },
   "outputs": [],
   "source": [
    "y_pred = rand_clf.predict(X_test)\n",
    "\n",
    "print(\"The classification report after using randomized search CV\\n\", classification_report(y_test, y_pred))"
   ]
  },
  {
   "cell_type": "code",
   "execution_count": null,
   "metadata": {
    "id": "KNz69Z-7eNqh"
   },
   "outputs": [],
   "source": [
    "confusion_matrix(y_test, y_pred)"
   ]
  },
  {
   "cell_type": "markdown",
   "metadata": {
    "id": "I_rgg4dwO5Sc"
   },
   "source": [
    "# Using GridSearchCV for hyper parameter tuning"
   ]
  },
  {
   "cell_type": "code",
   "execution_count": null,
   "metadata": {
    "id": "hvYRoO8_Ka0A"
   },
   "outputs": [],
   "source": [
    "from src.hyperparameter_tuning import run_grid_search_svc\n",
    "\n",
    "gammaValues = ['scale', 'auto']\n",
    "cvals = [1e-5, 1e-4, 1e-3, 0.01, 0.1, 1, 10]\n",
    "param_grid = {\n",
    "    'kernel': ['linear', 'rbf', 'poly'],\n",
    "    'C': cvals,\n",
    "    'degree': [i for i in range(1, 5)],\n",
    "    'gamma': gammaValues,\n",
    "    'decision_function_shape': ['ovo', 'ovr']\n",
    "}"
   ]
  },
  {
   "cell_type": "code",
   "execution_count": null,
   "metadata": {},
   "outputs": [],
   "source": [
    "grid_clf = run_grid_search_svc(X_train, y_train, param_grid)"
   ]
  },
  {
   "cell_type": "code",
   "execution_count": null,
   "metadata": {
    "id": "ZdcAhDTzMZEF"
   },
   "outputs": [],
   "source": [
    "# Finding the best parameters for the gridsearch CV\n",
    "grid_clf.best_params_"
   ]
  },
  {
   "cell_type": "code",
   "execution_count": null,
   "metadata": {
    "id": "iCzgdlK2Mc1W"
   },
   "outputs": [],
   "source": [
    "# Using the test data to make predictions on the input\n",
    "y_pred = grid_clf.predict(X_test)\n",
    "print('Classification Report after using grid search CV\\n', classification_report(y_pred = y_pred, y_true = y_test))"
   ]
  },
  {
   "cell_type": "code",
   "execution_count": null,
   "metadata": {
    "id": "fIC29ts5Mnyd"
   },
   "outputs": [],
   "source": [
    "print(\"The confusion matrix is as follows\")\n",
    "confusion_matrix(y_test, y_pred)"
   ]
  },
  {
   "cell_type": "markdown",
   "metadata": {
    "id": "MP_iQHVcGJYa"
   },
   "source": [
    "## Using SMOTE samples for GridSearchCV\n"
   ]
  },
  {
   "cell_type": "code",
   "execution_count": null,
   "metadata": {
    "id": "4wKt4yYaGOPC"
   },
   "outputs": [],
   "source": [
    "grid_clf = run_grid_search_svc(X_smote, y_smote, param_grid)"
   ]
  },
  {
   "cell_type": "code",
   "execution_count": null,
   "metadata": {
    "id": "INB83-ZKJiO2"
   },
   "outputs": [],
   "source": [
    "grid_clf.best_params_"
   ]
  },
  {
   "cell_type": "code",
   "execution_count": null,
   "metadata": {
    "id": "UmWYJ6HzJnQO"
   },
   "outputs": [],
   "source": [
    "y_pred = grid_clf.predict(X_test)\n",
    "print('Classification Report after using grid search CV on SMOTE data\\n', classification_report(y_pred = y_pred, y_true = y_test))"
   ]
  },
  {
   "cell_type": "code",
   "execution_count": null,
   "metadata": {
    "id": "-snPjfs8fHV-"
   },
   "outputs": [],
   "source": [
    "confusion_matrix(y_pred = y_pred, y_true = y_test)"
   ]
  },
  {
   "cell_type": "markdown",
   "metadata": {
    "id": "zLqPNGXlesva"
   },
   "source": [
    "# Using GridSearchCV for Under Sampled data"
   ]
  },
  {
   "cell_type": "code",
   "execution_count": null,
   "metadata": {
    "id": "W8mL77rqexoG"
   },
   "outputs": [],
   "source": [
    "grid_clf = run_grid_search_svc(X_clc, y_clc, param_grid)"
   ]
  },
  {
   "cell_type": "code",
   "execution_count": null,
   "metadata": {
    "id": "23wwWxlve68i"
   },
   "outputs": [],
   "source": [
    "grid_clf.best_params_"
   ]
  },
  {
   "cell_type": "code",
   "execution_count": null,
   "metadata": {
    "id": "LwcVb74Le89v"
   },
   "outputs": [],
   "source": [
    "y_pred = grid_clf.predict(X_test)\n",
    "print('Classification Report after using grid search CV on SMOTE data\\n', classification_report(y_pred = y_pred, y_true = y_test))"
   ]
  },
  {
   "cell_type": "code",
   "execution_count": null,
   "metadata": {
    "id": "0jGdteTpfDFK"
   },
   "outputs": [],
   "source": [
    "confusion_matrix(y_true = y_test, y_pred = y_pred)"
   ]
  },
  {
   "cell_type": "markdown",
   "metadata": {
    "id": "EhKDcXQNKazn"
   },
   "source": [
    "# Visualising clusters using Principal Component Analysis (PCA and Kernel PCA)"
   ]
  },
  {
   "cell_type": "code",
   "execution_count": null,
   "metadata": {
    "id": "iL2DgDsWKazo"
   },
   "outputs": [],
   "source": [
    "label_encoding_dict['Sleep Disorder'].classes_"
   ]
  },
  {
   "cell_type": "code",
   "execution_count": null,
   "metadata": {
    "id": "2MSeEY6SKazo"
   },
   "outputs": [],
   "source": [
    "from src.plotting import plot_pca, plot_variance_ratio\n",
    "from src.decompose import do_pca\n",
    "\n",
    "pca, df_full_pca = do_pca(df)\n",
    "\n",
    "plot_pca(df_full_pca, df, label_encoding_dict)"
   ]
  },
  {
   "cell_type": "markdown",
   "metadata": {
    "id": "LzwUsHRTKazp"
   },
   "source": [
    "## Visualising Explained Variance Ratio vs Number of Components, & finding the optimal number of components"
   ]
  },
  {
   "cell_type": "code",
   "execution_count": null,
   "metadata": {
    "id": "3EGnEP3FKaz0"
   },
   "outputs": [],
   "source": [
    "plot_variance_ratio(pca)"
   ]
  },
  {
   "cell_type": "markdown",
   "metadata": {
    "id": "yepdMZH3Kaz1"
   },
   "source": [
    "## From here we can see that at Number of Components = 5, it has achieved 91% of cumulative variance ratio. So we would try the classification using the new 5 components"
   ]
  },
  {
   "cell_type": "code",
   "execution_count": null,
   "metadata": {
    "id": "c--hcGn_Kaz1"
   },
   "outputs": [],
   "source": [
    "from src.decompose import get_new_components\n",
    "\n",
    "new_pca, new_points = get_new_components(df)"
   ]
  },
  {
   "cell_type": "code",
   "execution_count": null,
   "metadata": {
    "id": "afCH-tyPKaz2"
   },
   "outputs": [],
   "source": [
    "from sklearn.model_selection import train_test_split\n",
    "X = df.drop(columns=['Stress Level','Sleep Disorder'])\n",
    "y = df['Sleep Disorder']\n",
    "\n",
    "\n",
    "X_train, X_test, y_train, y_test = train_test_split( X, y, test_size=0.3, random_state=42)\n",
    "\n",
    "classify_svc(X_train, y_train, X_test, y_test, kernel='rbf',degree=4,C=8.430136277531556,gamma='auto',decision_function_shape='ovr')"
   ]
  },
  {
   "cell_type": "markdown",
   "metadata": {
    "id": "O7m_838KRb1m"
   },
   "source": [
    "# using ensemble methods for imporving accuracy and reduce overfitting\n"
   ]
  },
  {
   "cell_type": "code",
   "execution_count": null,
   "metadata": {
    "id": "ypEUyZsUSb7I"
   },
   "outputs": [],
   "source": [
    "from sklearn.ensemble import RandomForestRegressor, RandomForestClassifier\n",
    "from sklearn.metrics import confusion_matrix"
   ]
  },
  {
   "cell_type": "code",
   "execution_count": null,
   "metadata": {
    "id": "_44Nd-o-SSYS"
   },
   "outputs": [],
   "source": [
    "y2 = df['Sleep Disorder']\n",
    "y = df['Stress Level']"
   ]
  },
  {
   "cell_type": "markdown",
   "metadata": {
    "id": "oMJYmiiqoRIZ"
   },
   "source": [
    "# Ensembles for Regression"
   ]
  },
  {
   "cell_type": "code",
   "execution_count": null,
   "metadata": {
    "id": "lm0-BoOYo1s4"
   },
   "outputs": [],
   "source": []
  },
  {
   "cell_type": "code",
   "execution_count": null,
   "metadata": {
    "id": "TL_H14WkRbHP"
   },
   "outputs": [],
   "source": [
    "from sklearn.model_selection import train_test_split\n",
    "from src.regression import regress_bagging\n",
    "\n",
    "X_train, X_test, y_train, y_test = train_test_split(\n",
    "    X, y, test_size=0.3, random_state=42)\n",
    "\n",
    "regress_bagging(X_train, y_train, X_test, y_test)"
   ]
  },
  {
   "cell_type": "code",
   "execution_count": null,
   "metadata": {
    "id": "HCeFkml8Ra7D"
   },
   "outputs": [],
   "source": [
    "from src.regression import regress_rf\n",
    "\n",
    "# Calculate the differences (residuals)\n",
    "residuals, y_pred_reg = regress_rf(X_train, y_train, X_test, y_test)"
   ]
  },
  {
   "cell_type": "code",
   "execution_count": null,
   "metadata": {},
   "outputs": [],
   "source": [
    "from src.plotting import plot_residual\n",
    "\n",
    "plot_residual(y_test, y_pred_reg, residuals)"
   ]
  },
  {
   "cell_type": "markdown",
   "metadata": {
    "id": "Vl2YMnkXu_G9"
   },
   "source": [
    "# classification using Ensembles"
   ]
  },
  {
   "cell_type": "code",
   "execution_count": null,
   "metadata": {
    "id": "eU_9bNv0Sdvo"
   },
   "outputs": [],
   "source": [
    "X_train_clf, X_test_clf, y_train_clf, y_test_clf = train_test_split(X, y2, test_size=0.2, random_state=42)"
   ]
  },
  {
   "cell_type": "code",
   "execution_count": null,
   "metadata": {
    "id": "z3glXTNzSduQ"
   },
   "outputs": [],
   "source": [
    "from src.classification import classify_rf\n",
    "\n",
    "cmd = classify_rf(X_train_clf, y_train_clf, X_test_clf, y_test_clf)\n",
    "plt.title(\"Confusion Matrix for Sleep Disorder Classification\")\n",
    "plt.show()"
   ]
  },
  {
   "cell_type": "markdown",
   "metadata": {
    "id": "D4FmAEUWpHRM"
   },
   "source": [
    "## Finding the best n_estimators for Random Forest Classifier\n"
   ]
  },
  {
   "cell_type": "code",
   "execution_count": null,
   "metadata": {
    "id": "l2zOzCvvpBhX"
   },
   "outputs": [],
   "source": [
    "from src.plotting import plot_rfc\n",
    "\n",
    "plot_rfc()"
   ]
  },
  {
   "cell_type": "code",
   "execution_count": null,
   "metadata": {
    "id": "y8bT9O1rSdmW"
   },
   "outputs": [],
   "source": [
    "\n",
    "from sklearn.ensemble import GradientBoostingRegressor, AdaBoostRegressor, BaggingRegressor\n",
    "\n",
    "from src.regression import compare_regs\n",
    "from xgboost import XGBRegressor, XGBClassifier\n",
    "\n",
    "\n",
    "# Split the data into training and testing sets\n",
    "X_train_reg, X_test_reg, y_train_reg, y_test_reg = train_test_split(X, y, test_size=0.2, random_state=42)\n",
    "\n",
    "# Define and train ensemble regressors\n",
    "regressors = {\n",
    "    \"Random Forest\": RandomForestRegressor(random_state=42),\n",
    "    \"Gradient Boosting\": GradientBoostingRegressor(random_state=42),\n",
    "    \"AdaBoost\": AdaBoostRegressor(random_state=42),\n",
    "    \"Bagging\": BaggingRegressor(estimator=RandomForestRegressor(), random_state=42),\n",
    "    \"XGBoost\": XGBRegressor(objective='reg:squarederror', random_state=42)\n",
    "}\n",
    "\n",
    "compare_regs(X_train_reg, y_train_reg, X_test_reg, y_test_reg, regressors)\n"
   ]
  },
  {
   "cell_type": "markdown",
   "metadata": {
    "id": "4iDUygS7nsZD"
   },
   "source": [
    "### The best Ensemble Regressor is XG Boost"
   ]
  },
  {
   "cell_type": "code",
   "execution_count": null,
   "metadata": {
    "id": "M4jStzTQS2lD"
   },
   "outputs": [],
   "source": [
    "from src.classification import compare_clf\n",
    "from sklearn.ensemble import GradientBoostingClassifier, AdaBoostClassifier, BaggingClassifier\n",
    "\n",
    "X_train_clf, X_test_clf, y_train_clf, y_test_clf = train_test_split(X, y2, test_size=0.2, random_state=42)\n",
    "\n",
    "# Define and train ensemble classifiers\n",
    "classifiers = {\n",
    "    \"Random Forest\": RandomForestClassifier(n_estimators=40,random_state=42),\n",
    "    \"Gradient Boosting\": GradientBoostingClassifier(random_state=42),\n",
    "    \"AdaBoost\": AdaBoostClassifier(random_state=42),\n",
    "    \"Bagging\": BaggingClassifier(estimator=RandomForestClassifier(), random_state=42),\n",
    "    \"XGBoost\": XGBClassifier(eval_metric='logloss', random_state=42)\n",
    "}\n",
    "\n",
    "# Evaluate each classifier\n",
    "compare_clf(X_train_clf, y_train_clf, X_test_clf, y_test_clf, classifiers)"
   ]
  },
  {
   "cell_type": "markdown",
   "metadata": {
    "id": "5jPjcra8nSo8"
   },
   "source": [
    "## The best Ensemble Classifier are Random Forest, Gradient Boosting and XG Boost"
   ]
  },
  {
   "cell_type": "markdown",
   "metadata": {
    "id": "gl9seiYKrVoi"
   },
   "source": [
    "# precision recall graphs\n"
   ]
  },
  {
   "cell_type": "code",
   "execution_count": null,
   "metadata": {
    "id": "F2UrILQ6S2em"
   },
   "outputs": [],
   "source": [
    "from sklearn.preprocessing import label_binarize\n",
    "from sklearn.multiclass import OneVsRestClassifier\n",
    "from sklearn.pipeline import make_pipeline\n",
    "from src.plotting import precision_recall_1, precision_recall_2\n",
    "\n",
    "y = df['Sleep Disorder']\n",
    "# Use label_binarize to be multi-label like settings\n",
    "Y = label_binarize(y, classes=[0, 1, 2])\n",
    "n_classes = Y.shape[1]\n",
    "\n",
    "# Split into training and test\n",
    "X_train2, X_test2, Y_train2, Y_test2 = train_test_split(\n",
    "    X, Y, test_size=0.2, random_state=42\n",
    ")\n",
    "\n",
    "classifier = OneVsRestClassifier(\n",
    "        make_pipeline(StandardScaler(), SVC(random_state= 42))\n",
    "    )\n",
    "classifier.fit(X_train, y_train)\n",
    "\n"
   ]
  },
  {
   "cell_type": "code",
   "execution_count": null,
   "metadata": {},
   "outputs": [],
   "source": [
    "precision_recall_1(X_train2, Y_train2, X_test2, Y_test2, classifier)"
   ]
  },
  {
   "cell_type": "code",
   "execution_count": null,
   "metadata": {},
   "outputs": [],
   "source": [
    "precision_recall_2(X_test, y_test, classifier, n_classes)"
   ]
  }
 ],
 "metadata": {
  "colab": {
   "provenance": []
  },
  "kernelspec": {
   "display_name": ".venv",
   "language": "python",
   "name": "python3"
  },
  "language_info": {
   "codemirror_mode": {
    "name": "ipython",
    "version": 3
   },
   "file_extension": ".py",
   "mimetype": "text/x-python",
   "name": "python",
   "nbconvert_exporter": "python",
   "pygments_lexer": "ipython3",
   "version": "3.12.11"
  }
 },
 "nbformat": 4,
 "nbformat_minor": 0
}
