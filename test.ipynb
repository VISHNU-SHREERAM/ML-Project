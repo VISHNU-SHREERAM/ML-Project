{
 "cells": [
  {
   "cell_type": "code",
   "execution_count": 4,
   "metadata": {},
   "outputs": [
    {
     "data": {
      "text/html": [
       "<div>\n",
       "<style scoped>\n",
       "    .dataframe tbody tr th:only-of-type {\n",
       "        vertical-align: middle;\n",
       "    }\n",
       "\n",
       "    .dataframe tbody tr th {\n",
       "        vertical-align: top;\n",
       "    }\n",
       "\n",
       "    .dataframe thead th {\n",
       "        text-align: right;\n",
       "    }\n",
       "</style>\n",
       "<table border=\"1\" class=\"dataframe\">\n",
       "  <thead>\n",
       "    <tr style=\"text-align: right;\">\n",
       "      <th></th>\n",
       "      <th>Person ID</th>\n",
       "      <th>Gender</th>\n",
       "      <th>Age</th>\n",
       "      <th>Occupation</th>\n",
       "      <th>Sleep Duration</th>\n",
       "      <th>Quality of Sleep</th>\n",
       "      <th>Physical Activity Level</th>\n",
       "      <th>Stress Level</th>\n",
       "      <th>BMI Category</th>\n",
       "      <th>Blood Pressure</th>\n",
       "      <th>Heart Rate</th>\n",
       "      <th>Daily Steps</th>\n",
       "      <th>Sleep Disorder</th>\n",
       "    </tr>\n",
       "  </thead>\n",
       "  <tbody>\n",
       "    <tr>\n",
       "      <th>0</th>\n",
       "      <td>1</td>\n",
       "      <td>Male</td>\n",
       "      <td>27</td>\n",
       "      <td>Software Engineer</td>\n",
       "      <td>6.1</td>\n",
       "      <td>6</td>\n",
       "      <td>42</td>\n",
       "      <td>6</td>\n",
       "      <td>Overweight</td>\n",
       "      <td>126/83</td>\n",
       "      <td>77</td>\n",
       "      <td>4200</td>\n",
       "      <td>NaN</td>\n",
       "    </tr>\n",
       "    <tr>\n",
       "      <th>1</th>\n",
       "      <td>2</td>\n",
       "      <td>Male</td>\n",
       "      <td>28</td>\n",
       "      <td>Doctor</td>\n",
       "      <td>6.2</td>\n",
       "      <td>6</td>\n",
       "      <td>60</td>\n",
       "      <td>8</td>\n",
       "      <td>Normal</td>\n",
       "      <td>125/80</td>\n",
       "      <td>75</td>\n",
       "      <td>10000</td>\n",
       "      <td>NaN</td>\n",
       "    </tr>\n",
       "    <tr>\n",
       "      <th>2</th>\n",
       "      <td>3</td>\n",
       "      <td>Male</td>\n",
       "      <td>28</td>\n",
       "      <td>Doctor</td>\n",
       "      <td>6.2</td>\n",
       "      <td>6</td>\n",
       "      <td>60</td>\n",
       "      <td>8</td>\n",
       "      <td>Normal</td>\n",
       "      <td>125/80</td>\n",
       "      <td>75</td>\n",
       "      <td>10000</td>\n",
       "      <td>NaN</td>\n",
       "    </tr>\n",
       "    <tr>\n",
       "      <th>3</th>\n",
       "      <td>4</td>\n",
       "      <td>Male</td>\n",
       "      <td>28</td>\n",
       "      <td>Sales Representative</td>\n",
       "      <td>5.9</td>\n",
       "      <td>4</td>\n",
       "      <td>30</td>\n",
       "      <td>8</td>\n",
       "      <td>Obese</td>\n",
       "      <td>140/90</td>\n",
       "      <td>85</td>\n",
       "      <td>3000</td>\n",
       "      <td>Sleep Apnea</td>\n",
       "    </tr>\n",
       "    <tr>\n",
       "      <th>4</th>\n",
       "      <td>5</td>\n",
       "      <td>Male</td>\n",
       "      <td>28</td>\n",
       "      <td>Sales Representative</td>\n",
       "      <td>5.9</td>\n",
       "      <td>4</td>\n",
       "      <td>30</td>\n",
       "      <td>8</td>\n",
       "      <td>Obese</td>\n",
       "      <td>140/90</td>\n",
       "      <td>85</td>\n",
       "      <td>3000</td>\n",
       "      <td>Sleep Apnea</td>\n",
       "    </tr>\n",
       "    <tr>\n",
       "      <th>...</th>\n",
       "      <td>...</td>\n",
       "      <td>...</td>\n",
       "      <td>...</td>\n",
       "      <td>...</td>\n",
       "      <td>...</td>\n",
       "      <td>...</td>\n",
       "      <td>...</td>\n",
       "      <td>...</td>\n",
       "      <td>...</td>\n",
       "      <td>...</td>\n",
       "      <td>...</td>\n",
       "      <td>...</td>\n",
       "      <td>...</td>\n",
       "    </tr>\n",
       "    <tr>\n",
       "      <th>181</th>\n",
       "      <td>555</td>\n",
       "      <td>Female</td>\n",
       "      <td>43</td>\n",
       "      <td>Teacher</td>\n",
       "      <td>6.7</td>\n",
       "      <td>7</td>\n",
       "      <td>45</td>\n",
       "      <td>4</td>\n",
       "      <td>Overweight</td>\n",
       "      <td>135/90</td>\n",
       "      <td>65</td>\n",
       "      <td>6000</td>\n",
       "      <td>Insomnia</td>\n",
       "    </tr>\n",
       "    <tr>\n",
       "      <th>182</th>\n",
       "      <td>556</td>\n",
       "      <td>Male</td>\n",
       "      <td>43</td>\n",
       "      <td>Salesperson</td>\n",
       "      <td>6.5</td>\n",
       "      <td>6</td>\n",
       "      <td>45</td>\n",
       "      <td>7</td>\n",
       "      <td>Overweight</td>\n",
       "      <td>130/85</td>\n",
       "      <td>72</td>\n",
       "      <td>6000</td>\n",
       "      <td>Insomnia</td>\n",
       "    </tr>\n",
       "    <tr>\n",
       "      <th>183</th>\n",
       "      <td>557</td>\n",
       "      <td>Female</td>\n",
       "      <td>43</td>\n",
       "      <td>Teacher</td>\n",
       "      <td>6.7</td>\n",
       "      <td>7</td>\n",
       "      <td>45</td>\n",
       "      <td>4</td>\n",
       "      <td>Overweight</td>\n",
       "      <td>135/90</td>\n",
       "      <td>65</td>\n",
       "      <td>6000</td>\n",
       "      <td>Insomnia</td>\n",
       "    </tr>\n",
       "    <tr>\n",
       "      <th>184</th>\n",
       "      <td>558</td>\n",
       "      <td>Male</td>\n",
       "      <td>43</td>\n",
       "      <td>Salesperson</td>\n",
       "      <td>6.4</td>\n",
       "      <td>6</td>\n",
       "      <td>45</td>\n",
       "      <td>7</td>\n",
       "      <td>Overweight</td>\n",
       "      <td>130/85</td>\n",
       "      <td>72</td>\n",
       "      <td>6000</td>\n",
       "      <td>Insomnia</td>\n",
       "    </tr>\n",
       "    <tr>\n",
       "      <th>185</th>\n",
       "      <td>559</td>\n",
       "      <td>Male</td>\n",
       "      <td>43</td>\n",
       "      <td>Salesperson</td>\n",
       "      <td>6.5</td>\n",
       "      <td>6</td>\n",
       "      <td>45</td>\n",
       "      <td>7</td>\n",
       "      <td>Overweight</td>\n",
       "      <td>130/85</td>\n",
       "      <td>72</td>\n",
       "      <td>6000</td>\n",
       "      <td>Insomnia</td>\n",
       "    </tr>\n",
       "  </tbody>\n",
       "</table>\n",
       "<p>560 rows × 13 columns</p>\n",
       "</div>"
      ],
      "text/plain": [
       "     Person ID  Gender  Age            Occupation  Sleep Duration  \\\n",
       "0            1    Male   27     Software Engineer             6.1   \n",
       "1            2    Male   28                Doctor             6.2   \n",
       "2            3    Male   28                Doctor             6.2   \n",
       "3            4    Male   28  Sales Representative             5.9   \n",
       "4            5    Male   28  Sales Representative             5.9   \n",
       "..         ...     ...  ...                   ...             ...   \n",
       "181        555  Female   43               Teacher             6.7   \n",
       "182        556    Male   43           Salesperson             6.5   \n",
       "183        557  Female   43               Teacher             6.7   \n",
       "184        558    Male   43           Salesperson             6.4   \n",
       "185        559    Male   43           Salesperson             6.5   \n",
       "\n",
       "     Quality of Sleep  Physical Activity Level  Stress Level BMI Category  \\\n",
       "0                   6                       42             6   Overweight   \n",
       "1                   6                       60             8       Normal   \n",
       "2                   6                       60             8       Normal   \n",
       "3                   4                       30             8        Obese   \n",
       "4                   4                       30             8        Obese   \n",
       "..                ...                      ...           ...          ...   \n",
       "181                 7                       45             4   Overweight   \n",
       "182                 6                       45             7   Overweight   \n",
       "183                 7                       45             4   Overweight   \n",
       "184                 6                       45             7   Overweight   \n",
       "185                 6                       45             7   Overweight   \n",
       "\n",
       "    Blood Pressure  Heart Rate  Daily Steps Sleep Disorder  \n",
       "0           126/83          77         4200            NaN  \n",
       "1           125/80          75        10000            NaN  \n",
       "2           125/80          75        10000            NaN  \n",
       "3           140/90          85         3000    Sleep Apnea  \n",
       "4           140/90          85         3000    Sleep Apnea  \n",
       "..             ...         ...          ...            ...  \n",
       "181         135/90          65         6000       Insomnia  \n",
       "182         130/85          72         6000       Insomnia  \n",
       "183         135/90          65         6000       Insomnia  \n",
       "184         130/85          72         6000       Insomnia  \n",
       "185         130/85          72         6000       Insomnia  \n",
       "\n",
       "[560 rows x 13 columns]"
      ]
     },
     "execution_count": 4,
     "metadata": {},
     "output_type": "execute_result"
    }
   ],
   "source": [
    "import pandas as pd\n",
    "df_part1 = pd.read_csv('./Sleep_health_and_lifestyle_dataset.csv')\n",
    "df_part2 = pd.read_csv('./Sleep_health_and_lifestyle_dataset_part_2.csv')\n",
    "df = pd.concat((df_part1, df_part2))\n",
    "df"
   ]
  },
  {
   "cell_type": "code",
   "execution_count": 28,
   "metadata": {},
   "outputs": [
    {
     "data": {
      "image/png": "[encoded data removed]",
      "text/plain": [
       "<Figure size 640x480 with 1 Axes>"
      ]
     },
     "metadata": {},
     "output_type": "display_data"
    }
   ],
   "source": [
    "# show the box plot of the 'Stress Level' column\n",
    "df['Stress Level'].plot(kind='box')\n",
    "plt.show()"
   ]
  },
  {
   "cell_type": "code",
   "execution_count": 25,
   "metadata": {},
   "outputs": [
    {
     "data": {
      "text/plain": [
       "<Axes: >"
      ]
     },
     "execution_count": 25,
     "metadata": {},
     "output_type": "execute_result"
    }
   ],
   "source": [
    "df.boxplot(column='Stress Level')"
   ]
  },
  {
   "cell_type": "code",
   "execution_count": 26,
   "metadata": {},
   "outputs": [
    {
     "data": {
      "image/png": "[encoded data removed]",
      "text/plain": [
       "<Figure size 640x480 with 1 Axes>"
      ]
     },
     "metadata": {},
     "output_type": "display_data"
    }
   ],
   "source": [
    "import matplotlib.pyplot as plt\n",
    "plt.show()"
   ]
  },
  {
   "cell_type": "code",
   "execution_count": 30,
   "metadata": {},
   "outputs": [
    {
     "data": {
      "image/png": "[encoded data removed]",
      "text/plain": [
       "<Figure size 640x480 with 1 Axes>"
      ]
     },
     "metadata": {},
     "output_type": "display_data"
    }
   ],
   "source": [
    "# show the histogram of the 'Stress Level' column\n",
    "df['Stress Level'].plot(kind='hist')\n",
    "plt.show()"
   ]
  },
  {
   "cell_type": "code",
   "execution_count": 34,
   "metadata": {},
   "outputs": [
    {
     "data": {
      "image/png": "[encoded data removed]",
      "text/plain": [
       "<Figure size 640x480 with 1 Axes>"
      ]
     },
     "metadata": {},
     "output_type": "display_data"
    }
   ],
   "source": [
    "#show bar plot of the 'Stress Level' column and sort the x axis\n",
    "\n",
    "df['Stress Level'].value_counts().sort_index().plot(kind='bar')\n",
    "plt.show()"
   ]
  },
  {
   "cell_type": "code",
   "execution_count": null,
   "metadata": {},
   "outputs": [],
   "source": []
  }
 ],
 "metadata": {
  "kernelspec": {
   "display_name": "Python 3",
   "language": "python",
   "name": "python3"
  },
  "language_info": {
   "codemirror_mode": {
    "name": "ipython",
    "version": 3
   },
   "file_extension": ".py",
   "mimetype": "text/x-python",
   "name": "python",
   "nbconvert_exporter": "python",
   "pygments_lexer": "ipython3",
   "version": "3.11.0"
  }
 },
 "nbformat": 4,
 "nbformat_minor": 2
}
